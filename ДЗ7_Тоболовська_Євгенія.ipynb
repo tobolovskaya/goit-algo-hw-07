{
  "nbformat": 4,
  "nbformat_minor": 0,
  "metadata": {
    "colab": {
      "provenance": []
    },
    "kernelspec": {
      "name": "python3",
      "display_name": "Python 3"
    },
    "language_info": {
      "name": "python"
    }
  },
  "cells": [
    {
      "cell_type": "markdown",
      "source": [
        "Завдання 1"
      ],
      "metadata": {
        "id": "74I9Jf1cFuuD"
      }
    },
    {
      "cell_type": "code",
      "execution_count": 1,
      "metadata": {
        "colab": {
          "base_uri": "https://localhost:8080/"
        },
        "id": "M_2JNG_EFZkQ",
        "outputId": "a129d3a2-7c91-4a15-9e52-46a153a86127"
      },
      "outputs": [
        {
          "output_type": "execute_result",
          "data": {
            "text/plain": [
              "50"
            ]
          },
          "metadata": {},
          "execution_count": 1
        }
      ],
      "source": [
        "# For this task, let's define a simple binary search tree and a function to find the maximum value.\n",
        "# Please note that in a real-world scenario, you would likely use a library or a more complex implementation.\n",
        "\n",
        "class Node:\n",
        "    def __init__(self, key):\n",
        "        self.left = None\n",
        "        self.right = None\n",
        "        self.val = key\n",
        "\n",
        "def insert(node, key):\n",
        "    if node is None:\n",
        "        return Node(key)\n",
        "    else:\n",
        "        if key < node.val:\n",
        "            node.left = insert(node.left, key)\n",
        "        else:\n",
        "            node.right = insert(node.right, key)\n",
        "    return node\n",
        "\n",
        "def find_max(node):\n",
        "    current = node\n",
        "    while(current.right is not None):\n",
        "        current = current.right\n",
        "    return current.val\n",
        "\n",
        "# Let's create a binary search tree\n",
        "root = Node(10)\n",
        "insert(root, 5)\n",
        "insert(root, 1)\n",
        "insert(root, 7)\n",
        "insert(root, 40)\n",
        "insert(root, 50)\n",
        "\n",
        "# Now let's find the maximum value in the tree\n",
        "max_value = find_max(root)\n",
        "max_value\n"
      ]
    },
    {
      "cell_type": "markdown",
      "source": [
        "Завдання 2"
      ],
      "metadata": {
        "id": "wCL1LIS2Gky8"
      }
    },
    {
      "cell_type": "code",
      "source": [
        "def find_minimum(node):\n",
        "    if node is None:\n",
        "        return None\n",
        "    while node.left is not None:\n",
        "        node = node.left\n",
        "    return node.value\n"
      ],
      "metadata": {
        "id": "oP2M84ILGlOQ"
      },
      "execution_count": 2,
      "outputs": []
    },
    {
      "cell_type": "markdown",
      "source": [
        "Завдання 3"
      ],
      "metadata": {
        "id": "DD6tHY8wIDKG"
      }
    },
    {
      "cell_type": "code",
      "source": [
        "def find_sum(node):\n",
        "    if node is None:\n",
        "        return 0\n",
        "    return node.value + find_sum(node.left) + find_sum(node.right)\n",
        "\n",
        "# This function assumes that 'Node' is a class for the nodes of the tree which has attributes 'value', 'left', and 'right'.\n",
        "# An example of such a class is provided below.\n",
        "\n",
        "# class Node:\n",
        "#     def __init__(self, key):\n",
        "#         self.left = None\n",
        "#         self.right = None\n",
        "#         self.value = key\n",
        "\n",
        "# Example usage:\n",
        "# root = Node(10)\n",
        "# root.left = Node(5)\n",
        "# root.right = Node(15)\n",
        "# root.left.left = Node(3)\n",
        "# root.left.right = Node(7)\n",
        "# root.right.left = Node(12)\n",
        "# root.right.right = Node(18)\n",
        "\n",
        "# print(find_sum(root)) # This would output the sum of all values in the tree.\n"
      ],
      "metadata": {
        "id": "r2TyQtCQIER5"
      },
      "execution_count": 3,
      "outputs": []
    }
  ]
}